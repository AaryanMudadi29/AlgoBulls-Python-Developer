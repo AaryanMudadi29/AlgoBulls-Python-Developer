{
  "metadata": {
    "language_info": {
      "codemirror_mode": {
        "name": "python",
        "version": 3
      },
      "file_extension": ".py",
      "mimetype": "text/x-python",
      "name": "python",
      "nbconvert_exporter": "python",
      "pygments_lexer": "ipython3",
      "version": "3.8"
    },
    "kernelspec": {
      "name": "python",
      "display_name": "Python (Pyodide)",
      "language": "python"
    }
  },
  "nbformat_minor": 4,
  "nbformat": 4,
  "cells": [
    {
      "cell_type": "code",
      "source": "import pandas as pd\nimport numpy as np\n",
      "metadata": {
        "trusted": true
      },
      "execution_count": 1,
      "outputs": []
    },
    {
      "cell_type": "code",
      "source": "class ScriptData:\n    def __init__(self):\n        self.data = {}",
      "metadata": {
        "trusted": true
      },
      "execution_count": 2,
      "outputs": []
    },
    {
      "cell_type": "code",
      "source": " def fetch_intraday_data(self, script):\n        api_key = 'YOUR_API_KEY'\n        url = f\"https://www.alphavantage.co/query?function=TIME_SERIES_INTRADAY&symbol={script}&interval=1min&apikey={api_key}\"\n        response = requests.get(url)\n        data = response.json()\n        self.data[script] = data['Time Series (1min)']",
      "metadata": {
        "trusted": true
      },
      "execution_count": 3,
      "outputs": []
    },
    {
      "cell_type": "code",
      "source": "def convert_intraday_data(self, script):\n        data = self.data[script]\n        data_list = []\n        for key, value in data.items():\n            timestamp = pd.Timestamp(key)\n            open_price = float(value['1. open'])\n            high_price = float(value['2. high'])\n            low_price = float(value['3. low'])\n            close_price = float(value['4. close'])\n            volume = int(value['5. volume'])\n            data_list.append([timestamp, open_price, high_price, low_price, close_price, volume])\n        df = pd.DataFrame(data_list, columns=['timestamp', 'open', 'high', 'low', 'close', 'volume'])\n        df.set_index('timestamp', inplace=True)\n        self.data[script] = df",
      "metadata": {
        "trusted": true
      },
      "execution_count": 4,
      "outputs": []
    },
    {
      "cell_type": "code",
      "source": " def __getitem__(self, script):\n        return self.data[script]",
      "metadata": {
        "trusted": true
      },
      "execution_count": 5,
      "outputs": []
    },
    {
      "cell_type": "code",
      "source": " def __setitem__(self, script, data):\n        self.data[script] = data",
      "metadata": {
        "trusted": true
      },
      "execution_count": 6,
      "outputs": []
    },
    {
      "cell_type": "code",
      "source": " def __contains__(self, script):\n        return script in self.data\n",
      "metadata": {
        "trusted": true
      },
      "execution_count": 7,
      "outputs": []
    },
    {
      "cell_type": "code",
      "source": "def indicator1(df, timeperiod):\n    close_data = df['close']\n    moving_average = close_data.rolling(timeperiod).mean()\n    indicator_data = pd.DataFrame({'timestamp': close_data.index, 'indicator': moving_average})\n    return indicator_data",
      "metadata": {
        "trusted": true
      },
      "execution_count": 8,
      "outputs": []
    },
    {
      "cell_type": "code",
      "source": "\nclass Strategy:\n    def __init__(self, script):\n        self.script = script\n        self.script_data = ScriptData()\n        self.script_data.fetch_intraday_data(script)\n        self.script_data.convert_intraday_data(script)\n        self.df = self.script_data[script]\n        self.timeperiod = 5\n        self.indicator_data = indicator1(self.df, self.timeperiod)",
      "metadata": {
        "trusted": true
      },
      "execution_count": 9,
      "outputs": []
    },
    {
      "cell_type": "code",
      "source": " def generate_signals(self):\n        signals = []\n        close_data = self.df['close']\n        indicator_data = self.indicator_data['indicator']\n        for i in range(len(close_data)):\n            if i < self.timeperiod - 1:\n                signals.append(None)\n                continue\n              if indicator_data[i] > close_data[i] and indicator_data[i-1] :",
      "metadata": {
        "trusted": true
      },
      "execution_count": null,
      "outputs": []
    }
  ]
}